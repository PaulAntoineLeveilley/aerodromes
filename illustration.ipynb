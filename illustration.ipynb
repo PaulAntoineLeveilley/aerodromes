{
 "cells": [
  {
   "cell_type": "markdown",
   "metadata": {},
   "source": [
    "Affichage des resultats "
   ]
  },
  {
   "cell_type": "code",
   "execution_count": 6,
   "metadata": {},
   "outputs": [
    {
     "name": "stdout",
     "output_type": "stream",
     "text": [
      "Set parameter Username\r\n",
      "Academic license - for non-commercial use only - expires 2023-09-14\r\n",
      "Gurobi Optimizer version 9.5.2 build v9.5.2rc0 (win64)\r\n",
      "Thread count: 4 physical cores, 8 logical processors, using up to 8 threads\r\n",
      "Optimize a model with 489 rows, 419 columns and 3349 nonzeros\r\n",
      "Model fingerprint: 0xaf4809ac\r\n",
      "Variable types: 19 continuous, 400 integer (400 binary)\r\n",
      "Coefficient statistics:\r\n",
      "  Matrix range     [1e+00, 8e+00]\r\n",
      "  Objective range  [2e+00, 7e+01]\r\n",
      "  Bounds range     [0e+00, 0e+00]\r\n",
      "  RHS range        [1e+00, 7e+00]\r\n",
      "Found heuristic solution: objective 251.0000000\r\n",
      "Presolve removed 100 rows and 112 columns\r\n",
      "Presolve time: 0.01s\r\n",
      "Presolved: 389 rows, 307 columns, 3526 nonzeros\r\n",
      "Variable types: 18 continuous, 289 integer (289 binary)\r\n",
      "\r\n",
      "Root relaxation: objective 3.225000e+01, 28 iterations, 0.00 seconds (0.00 work units)\r\n",
      "\r\n",
      "    Nodes    |    Current Node    |     Objective Bounds      |     Work\r\n",
      " Expl Unexpl |  Obj  Depth IntInf | Incumbent    BestBd   Gap | It/Node Time\r\n",
      "\r\n",
      "     0     0   32.25000    0    4  251.00000   32.25000  87.2%     -    0s\r\n",
      "H    0     0                     239.0000000   32.25000  86.5%     -    0s\r\n",
      "H    0     0                     188.0000000   33.00000  82.4%     -    0s\r\n",
      "     0     0   37.00000    0    7  188.00000   37.00000  80.3%     -    0s\r\n",
      "H    0     0                     179.0000000   37.00000  79.3%     -    0s\r\n",
      "H    0     0                     135.0000000   37.00000  72.6%     -    0s\r\n",
      "     0     0   37.25000    0    7  135.00000   37.25000  72.4%     -    0s\r\n",
      "H    0     0                     106.0000000   37.25000  64.9%     -    0s\r\n",
      "     0     0   40.00000    0    7  106.00000   40.00000  62.3%     -    0s\r\n",
      "     0     0   40.00000    0    6  106.00000   40.00000  62.3%     -    0s\r\n",
      "     0     0   40.00000    0    6  106.00000   40.00000  62.3%     -    0s\r\n",
      "     0     0   41.42857    0    6  106.00000   41.42857  60.9%     -    0s\r\n",
      "     0     0   41.42857    0    6  106.00000   41.42857  60.9%     -    0s\r\n",
      "     0     2   41.50000    0    6  106.00000   41.50000  60.8%     -    0s\r\n",
      "*  943   601              57     102.0000000   50.12500  50.9%   5.6    0s\r\n",
      "H 1027   573                      95.0000000   50.19355  47.2%   5.6    0s\r\n",
      "H 1061   568                      78.0000000   50.19355  35.6%   5.8    0s\r\n",
      "* 1683   484              34      77.0000000   50.19355  34.8%   6.1    0s\r\n",
      "* 1684   457              34      76.0000000   50.19355  34.0%   6.1    0s\r\n",
      "* 2051   163              59      73.0000000   56.00000  23.3%   6.2    0s\r\n",
      "\r\n",
      "Cutting planes:\r\n",
      "  Learned: 1\r\n",
      "  Gomory: 9\r\n",
      "  Implied bound: 5\r\n",
      "  MIR: 4\r\n",
      "  Flow cover: 3\r\n",
      "  Zero half: 6\r\n",
      "  RLT: 9\r\n",
      "  Relax-and-lift: 1\r\n",
      "\r\n",
      "Explored 2240 nodes (13864 simplex iterations) in 0.79 seconds (0.49 work units)\r\n",
      "Thread count was 8 (of 8 available processors)\r\n",
      "\r\n",
      "Solution count 10: 73 76 77 ... 179\r\n",
      "\r\n",
      "Optimal solution found (tolerance 1.00e-04)\r\n",
      "Best objective 7.300000000000e+01, best bound 7.300000000000e+01, gap 0.0000%\r\n",
      "\r\n",
      "User-callback calls 5257, time in user-callback 0.00 sec\r\n",
      "Objective value : 73.0\n"
     ]
    },
    {
     "data": {
      "text/plain": [
       "73.0"
      ]
     },
     "metadata": {},
     "output_type": "display_data"
    }
   ],
   "source": [
    "include(\"./aeorodromes.jl\")\n",
    "using .aeorodromes\n",
    "objective = aerodromes()"
   ]
  }
 ],
 "metadata": {
  "kernelspec": {
   "display_name": "Julia 1.8.1",
   "language": "julia",
   "name": "julia-1.8"
  },
  "language_info": {
   "file_extension": ".jl",
   "mimetype": "application/julia",
   "name": "julia",
   "version": "1.8.1"
  },
  "orig_nbformat": 4
 },
 "nbformat": 4,
 "nbformat_minor": 2
}
